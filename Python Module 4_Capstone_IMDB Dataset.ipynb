{
 "cells": [
  {
   "cell_type": "code",
   "execution_count": 1,
   "id": "3aa8de7d",
   "metadata": {},
   "outputs": [],
   "source": [
    "import numpy as np\n",
    "import pandas as pd"
   ]
  },
  {
   "cell_type": "code",
   "execution_count": 2,
   "id": "e7aaaf4d",
   "metadata": {},
   "outputs": [],
   "source": [
    "df= pd.read_csv('IMDB-Movie-Data.xlsx.csv')"
   ]
  },
  {
   "cell_type": "code",
   "execution_count": 3,
   "id": "0b663b73",
   "metadata": {},
   "outputs": [
    {
     "data": {
      "text/html": [
       "<div>\n",
       "<style scoped>\n",
       "    .dataframe tbody tr th:only-of-type {\n",
       "        vertical-align: middle;\n",
       "    }\n",
       "\n",
       "    .dataframe tbody tr th {\n",
       "        vertical-align: top;\n",
       "    }\n",
       "\n",
       "    .dataframe thead th {\n",
       "        text-align: right;\n",
       "    }\n",
       "</style>\n",
       "<table border=\"1\" class=\"dataframe\">\n",
       "  <thead>\n",
       "    <tr style=\"text-align: right;\">\n",
       "      <th></th>\n",
       "      <th>ID</th>\n",
       "      <th>Title</th>\n",
       "      <th>Genre</th>\n",
       "      <th>Director</th>\n",
       "      <th>Year</th>\n",
       "      <th>Runtime_minutes</th>\n",
       "      <th>Rating</th>\n",
       "      <th>Votes</th>\n",
       "      <th>Revenue_millions</th>\n",
       "    </tr>\n",
       "  </thead>\n",
       "  <tbody>\n",
       "    <tr>\n",
       "      <th>0</th>\n",
       "      <td>1</td>\n",
       "      <td>Guardians of the Galaxy</td>\n",
       "      <td>Action</td>\n",
       "      <td>James Gunn</td>\n",
       "      <td>2014</td>\n",
       "      <td>121</td>\n",
       "      <td>8.1</td>\n",
       "      <td>757074</td>\n",
       "      <td>333.13</td>\n",
       "    </tr>\n",
       "    <tr>\n",
       "      <th>1</th>\n",
       "      <td>2</td>\n",
       "      <td>Prometheus</td>\n",
       "      <td>Adventure</td>\n",
       "      <td>Ridley Scott</td>\n",
       "      <td>2012</td>\n",
       "      <td>124</td>\n",
       "      <td>7.0</td>\n",
       "      <td>485820</td>\n",
       "      <td>126.46</td>\n",
       "    </tr>\n",
       "    <tr>\n",
       "      <th>2</th>\n",
       "      <td>3</td>\n",
       "      <td>Split</td>\n",
       "      <td>Horror</td>\n",
       "      <td>M. Night Shyamalan</td>\n",
       "      <td>2016</td>\n",
       "      <td>117</td>\n",
       "      <td>7.3</td>\n",
       "      <td>157606</td>\n",
       "      <td>138.12</td>\n",
       "    </tr>\n",
       "    <tr>\n",
       "      <th>3</th>\n",
       "      <td>4</td>\n",
       "      <td>Sing</td>\n",
       "      <td>Animation</td>\n",
       "      <td>Christophe Lourdelet</td>\n",
       "      <td>2016</td>\n",
       "      <td>108</td>\n",
       "      <td>7.2</td>\n",
       "      <td>60545</td>\n",
       "      <td>270.32</td>\n",
       "    </tr>\n",
       "    <tr>\n",
       "      <th>4</th>\n",
       "      <td>5</td>\n",
       "      <td>Suicide Squad</td>\n",
       "      <td>Action</td>\n",
       "      <td>David Ayer</td>\n",
       "      <td>2016</td>\n",
       "      <td>123</td>\n",
       "      <td>6.2</td>\n",
       "      <td>393727</td>\n",
       "      <td>325.02</td>\n",
       "    </tr>\n",
       "  </tbody>\n",
       "</table>\n",
       "</div>"
      ],
      "text/plain": [
       "   ID                    Title      Genre              Director  Year  \\\n",
       "0   1  Guardians of the Galaxy     Action            James Gunn  2014   \n",
       "1   2               Prometheus  Adventure          Ridley Scott  2012   \n",
       "2   3                    Split     Horror    M. Night Shyamalan  2016   \n",
       "3   4                     Sing  Animation  Christophe Lourdelet  2016   \n",
       "4   5            Suicide Squad     Action            David Ayer  2016   \n",
       "\n",
       "   Runtime_minutes  Rating   Votes  Revenue_millions  \n",
       "0              121     8.1  757074            333.13  \n",
       "1              124     7.0  485820            126.46  \n",
       "2              117     7.3  157606            138.12  \n",
       "3              108     7.2   60545            270.32  \n",
       "4              123     6.2  393727            325.02  "
      ]
     },
     "execution_count": 3,
     "metadata": {},
     "output_type": "execute_result"
    }
   ],
   "source": [
    "df.head()"
   ]
  },
  {
   "cell_type": "code",
   "execution_count": 4,
   "id": "f612be91",
   "metadata": {},
   "outputs": [
    {
     "data": {
      "text/html": [
       "<div>\n",
       "<style scoped>\n",
       "    .dataframe tbody tr th:only-of-type {\n",
       "        vertical-align: middle;\n",
       "    }\n",
       "\n",
       "    .dataframe tbody tr th {\n",
       "        vertical-align: top;\n",
       "    }\n",
       "\n",
       "    .dataframe thead th {\n",
       "        text-align: right;\n",
       "    }\n",
       "</style>\n",
       "<table border=\"1\" class=\"dataframe\">\n",
       "  <thead>\n",
       "    <tr style=\"text-align: right;\">\n",
       "      <th></th>\n",
       "      <th>ID</th>\n",
       "      <th>Title</th>\n",
       "      <th>Genre</th>\n",
       "      <th>Director</th>\n",
       "      <th>Year</th>\n",
       "      <th>Runtime_minutes</th>\n",
       "      <th>Rating</th>\n",
       "      <th>Votes</th>\n",
       "      <th>Revenue_millions</th>\n",
       "    </tr>\n",
       "  </thead>\n",
       "  <tbody>\n",
       "    <tr>\n",
       "      <th>0</th>\n",
       "      <td>1</td>\n",
       "      <td>Guardians of the Galaxy</td>\n",
       "      <td>Action</td>\n",
       "      <td>James Gunn</td>\n",
       "      <td>2014</td>\n",
       "      <td>121</td>\n",
       "      <td>8.1</td>\n",
       "      <td>757074</td>\n",
       "      <td>333.13</td>\n",
       "    </tr>\n",
       "    <tr>\n",
       "      <th>1</th>\n",
       "      <td>2</td>\n",
       "      <td>Prometheus</td>\n",
       "      <td>Adventure</td>\n",
       "      <td>Ridley Scott</td>\n",
       "      <td>2012</td>\n",
       "      <td>124</td>\n",
       "      <td>7.0</td>\n",
       "      <td>485820</td>\n",
       "      <td>126.46</td>\n",
       "    </tr>\n",
       "    <tr>\n",
       "      <th>2</th>\n",
       "      <td>3</td>\n",
       "      <td>Split</td>\n",
       "      <td>Horror</td>\n",
       "      <td>M. Night Shyamalan</td>\n",
       "      <td>2016</td>\n",
       "      <td>117</td>\n",
       "      <td>7.3</td>\n",
       "      <td>157606</td>\n",
       "      <td>138.12</td>\n",
       "    </tr>\n",
       "    <tr>\n",
       "      <th>3</th>\n",
       "      <td>4</td>\n",
       "      <td>Sing</td>\n",
       "      <td>Animation</td>\n",
       "      <td>Christophe Lourdelet</td>\n",
       "      <td>2016</td>\n",
       "      <td>108</td>\n",
       "      <td>7.2</td>\n",
       "      <td>60545</td>\n",
       "      <td>270.32</td>\n",
       "    </tr>\n",
       "    <tr>\n",
       "      <th>4</th>\n",
       "      <td>5</td>\n",
       "      <td>Suicide Squad</td>\n",
       "      <td>Action</td>\n",
       "      <td>David Ayer</td>\n",
       "      <td>2016</td>\n",
       "      <td>123</td>\n",
       "      <td>6.2</td>\n",
       "      <td>393727</td>\n",
       "      <td>325.02</td>\n",
       "    </tr>\n",
       "    <tr>\n",
       "      <th>...</th>\n",
       "      <td>...</td>\n",
       "      <td>...</td>\n",
       "      <td>...</td>\n",
       "      <td>...</td>\n",
       "      <td>...</td>\n",
       "      <td>...</td>\n",
       "      <td>...</td>\n",
       "      <td>...</td>\n",
       "      <td>...</td>\n",
       "    </tr>\n",
       "    <tr>\n",
       "      <th>995</th>\n",
       "      <td>996</td>\n",
       "      <td>Secret in Their Eyes</td>\n",
       "      <td>Crime</td>\n",
       "      <td>Billy Ray</td>\n",
       "      <td>2015</td>\n",
       "      <td>111</td>\n",
       "      <td>6.2</td>\n",
       "      <td>27585</td>\n",
       "      <td>NaN</td>\n",
       "    </tr>\n",
       "    <tr>\n",
       "      <th>996</th>\n",
       "      <td>997</td>\n",
       "      <td>Hostel: Part II</td>\n",
       "      <td>Horror</td>\n",
       "      <td>Eli Roth</td>\n",
       "      <td>2007</td>\n",
       "      <td>94</td>\n",
       "      <td>5.5</td>\n",
       "      <td>73152</td>\n",
       "      <td>17.54</td>\n",
       "    </tr>\n",
       "    <tr>\n",
       "      <th>997</th>\n",
       "      <td>998</td>\n",
       "      <td>Step Up 2: The Streets</td>\n",
       "      <td>Drama</td>\n",
       "      <td>Jon M. Chu</td>\n",
       "      <td>2008</td>\n",
       "      <td>98</td>\n",
       "      <td>6.2</td>\n",
       "      <td>70699</td>\n",
       "      <td>58.01</td>\n",
       "    </tr>\n",
       "    <tr>\n",
       "      <th>998</th>\n",
       "      <td>999</td>\n",
       "      <td>Search Party</td>\n",
       "      <td>Adventure</td>\n",
       "      <td>Scot Armstrong</td>\n",
       "      <td>2014</td>\n",
       "      <td>93</td>\n",
       "      <td>5.6</td>\n",
       "      <td>4881</td>\n",
       "      <td>NaN</td>\n",
       "    </tr>\n",
       "    <tr>\n",
       "      <th>999</th>\n",
       "      <td>1000</td>\n",
       "      <td>Nine Lives</td>\n",
       "      <td>Comedy</td>\n",
       "      <td>Barry Sonnenfeld</td>\n",
       "      <td>2016</td>\n",
       "      <td>87</td>\n",
       "      <td>5.3</td>\n",
       "      <td>12435</td>\n",
       "      <td>19.64</td>\n",
       "    </tr>\n",
       "  </tbody>\n",
       "</table>\n",
       "<p>1000 rows × 9 columns</p>\n",
       "</div>"
      ],
      "text/plain": [
       "       ID                    Title      Genre              Director  Year  \\\n",
       "0       1  Guardians of the Galaxy     Action            James Gunn  2014   \n",
       "1       2               Prometheus  Adventure          Ridley Scott  2012   \n",
       "2       3                    Split     Horror    M. Night Shyamalan  2016   \n",
       "3       4                     Sing  Animation  Christophe Lourdelet  2016   \n",
       "4       5            Suicide Squad     Action            David Ayer  2016   \n",
       "..    ...                      ...        ...                   ...   ...   \n",
       "995   996     Secret in Their Eyes      Crime             Billy Ray  2015   \n",
       "996   997          Hostel: Part II     Horror              Eli Roth  2007   \n",
       "997   998   Step Up 2: The Streets      Drama            Jon M. Chu  2008   \n",
       "998   999             Search Party  Adventure        Scot Armstrong  2014   \n",
       "999  1000               Nine Lives     Comedy      Barry Sonnenfeld  2016   \n",
       "\n",
       "     Runtime_minutes  Rating   Votes  Revenue_millions  \n",
       "0                121     8.1  757074            333.13  \n",
       "1                124     7.0  485820            126.46  \n",
       "2                117     7.3  157606            138.12  \n",
       "3                108     7.2   60545            270.32  \n",
       "4                123     6.2  393727            325.02  \n",
       "..               ...     ...     ...               ...  \n",
       "995              111     6.2   27585               NaN  \n",
       "996               94     5.5   73152             17.54  \n",
       "997               98     6.2   70699             58.01  \n",
       "998               93     5.6    4881               NaN  \n",
       "999               87     5.3   12435             19.64  \n",
       "\n",
       "[1000 rows x 9 columns]"
      ]
     },
     "execution_count": 4,
     "metadata": {},
     "output_type": "execute_result"
    }
   ],
   "source": [
    "df"
   ]
  },
  {
   "cell_type": "code",
   "execution_count": 5,
   "id": "2cfb3f7f",
   "metadata": {},
   "outputs": [
    {
     "data": {
      "text/html": [
       "<div>\n",
       "<style scoped>\n",
       "    .dataframe tbody tr th:only-of-type {\n",
       "        vertical-align: middle;\n",
       "    }\n",
       "\n",
       "    .dataframe tbody tr th {\n",
       "        vertical-align: top;\n",
       "    }\n",
       "\n",
       "    .dataframe thead th {\n",
       "        text-align: right;\n",
       "    }\n",
       "</style>\n",
       "<table border=\"1\" class=\"dataframe\">\n",
       "  <thead>\n",
       "    <tr style=\"text-align: right;\">\n",
       "      <th></th>\n",
       "      <th>ID</th>\n",
       "      <th>Year</th>\n",
       "      <th>Runtime_minutes</th>\n",
       "      <th>Rating</th>\n",
       "      <th>Votes</th>\n",
       "      <th>Revenue_millions</th>\n",
       "    </tr>\n",
       "  </thead>\n",
       "  <tbody>\n",
       "    <tr>\n",
       "      <th>count</th>\n",
       "      <td>1000.000000</td>\n",
       "      <td>1000.000000</td>\n",
       "      <td>1000.000000</td>\n",
       "      <td>1000.000000</td>\n",
       "      <td>1.000000e+03</td>\n",
       "      <td>872.000000</td>\n",
       "    </tr>\n",
       "    <tr>\n",
       "      <th>mean</th>\n",
       "      <td>500.500000</td>\n",
       "      <td>2012.783000</td>\n",
       "      <td>113.172000</td>\n",
       "      <td>6.723200</td>\n",
       "      <td>1.698083e+05</td>\n",
       "      <td>82.956376</td>\n",
       "    </tr>\n",
       "    <tr>\n",
       "      <th>std</th>\n",
       "      <td>288.819436</td>\n",
       "      <td>3.205962</td>\n",
       "      <td>18.810908</td>\n",
       "      <td>0.945429</td>\n",
       "      <td>1.887626e+05</td>\n",
       "      <td>103.253540</td>\n",
       "    </tr>\n",
       "    <tr>\n",
       "      <th>min</th>\n",
       "      <td>1.000000</td>\n",
       "      <td>2006.000000</td>\n",
       "      <td>66.000000</td>\n",
       "      <td>1.900000</td>\n",
       "      <td>6.100000e+01</td>\n",
       "      <td>0.000000</td>\n",
       "    </tr>\n",
       "    <tr>\n",
       "      <th>25%</th>\n",
       "      <td>250.750000</td>\n",
       "      <td>2010.000000</td>\n",
       "      <td>100.000000</td>\n",
       "      <td>6.200000</td>\n",
       "      <td>3.630900e+04</td>\n",
       "      <td>13.270000</td>\n",
       "    </tr>\n",
       "    <tr>\n",
       "      <th>50%</th>\n",
       "      <td>500.500000</td>\n",
       "      <td>2014.000000</td>\n",
       "      <td>111.000000</td>\n",
       "      <td>6.800000</td>\n",
       "      <td>1.107990e+05</td>\n",
       "      <td>47.985000</td>\n",
       "    </tr>\n",
       "    <tr>\n",
       "      <th>75%</th>\n",
       "      <td>750.250000</td>\n",
       "      <td>2016.000000</td>\n",
       "      <td>123.000000</td>\n",
       "      <td>7.400000</td>\n",
       "      <td>2.399098e+05</td>\n",
       "      <td>113.715000</td>\n",
       "    </tr>\n",
       "    <tr>\n",
       "      <th>max</th>\n",
       "      <td>1000.000000</td>\n",
       "      <td>2016.000000</td>\n",
       "      <td>191.000000</td>\n",
       "      <td>9.000000</td>\n",
       "      <td>1.791916e+06</td>\n",
       "      <td>936.630000</td>\n",
       "    </tr>\n",
       "  </tbody>\n",
       "</table>\n",
       "</div>"
      ],
      "text/plain": [
       "                ID         Year  Runtime_minutes       Rating         Votes  \\\n",
       "count  1000.000000  1000.000000      1000.000000  1000.000000  1.000000e+03   \n",
       "mean    500.500000  2012.783000       113.172000     6.723200  1.698083e+05   \n",
       "std     288.819436     3.205962        18.810908     0.945429  1.887626e+05   \n",
       "min       1.000000  2006.000000        66.000000     1.900000  6.100000e+01   \n",
       "25%     250.750000  2010.000000       100.000000     6.200000  3.630900e+04   \n",
       "50%     500.500000  2014.000000       111.000000     6.800000  1.107990e+05   \n",
       "75%     750.250000  2016.000000       123.000000     7.400000  2.399098e+05   \n",
       "max    1000.000000  2016.000000       191.000000     9.000000  1.791916e+06   \n",
       "\n",
       "       Revenue_millions  \n",
       "count        872.000000  \n",
       "mean          82.956376  \n",
       "std          103.253540  \n",
       "min            0.000000  \n",
       "25%           13.270000  \n",
       "50%           47.985000  \n",
       "75%          113.715000  \n",
       "max          936.630000  "
      ]
     },
     "execution_count": 5,
     "metadata": {},
     "output_type": "execute_result"
    }
   ],
   "source": [
    "df.describe()"
   ]
  },
  {
   "cell_type": "code",
   "execution_count": 6,
   "id": "2f2e614a",
   "metadata": {},
   "outputs": [
    {
     "data": {
      "text/plain": [
       "ID                    0\n",
       "Title                 0\n",
       "Genre                 0\n",
       "Director              0\n",
       "Year                  0\n",
       "Runtime_minutes       0\n",
       "Rating                0\n",
       "Votes                 0\n",
       "Revenue_millions    128\n",
       "dtype: int64"
      ]
     },
     "execution_count": 6,
     "metadata": {},
     "output_type": "execute_result"
    }
   ],
   "source": [
    "df.isnull().sum()"
   ]
  },
  {
   "cell_type": "code",
   "execution_count": 7,
   "id": "f346e718",
   "metadata": {},
   "outputs": [
    {
     "data": {
      "text/plain": [
       "318"
      ]
     },
     "execution_count": 7,
     "metadata": {},
     "output_type": "execute_result"
    }
   ],
   "source": [
    "df[df[\"Revenue_millions\"]>75][\"ID\"].count()"
   ]
  },
  {
   "cell_type": "code",
   "execution_count": 8,
   "id": "754acd3a",
   "metadata": {},
   "outputs": [
    {
     "data": {
      "text/plain": [
       "211"
      ]
     },
     "execution_count": 8,
     "metadata": {},
     "output_type": "execute_result"
    }
   ],
   "source": [
    "df[(df[\"Revenue_millions\"]>50) & (df[\"Rating\"]<7)][\"ID\"].count()"
   ]
  },
  {
   "cell_type": "code",
   "execution_count": 9,
   "id": "50d73ba5",
   "metadata": {},
   "outputs": [
    {
     "data": {
      "text/plain": [
       "8854.119999999999"
      ]
     },
     "execution_count": 9,
     "metadata": {},
     "output_type": "execute_result"
    }
   ],
   "source": [
    "df[df[\"Year\"] == 2015][\"Revenue_millions\"].sum()"
   ]
  },
  {
   "cell_type": "code",
   "execution_count": 10,
   "id": "75d43d99",
   "metadata": {},
   "outputs": [
    {
     "data": {
      "text/plain": [
       "6.799999999999999"
      ]
     },
     "execution_count": 10,
     "metadata": {},
     "output_type": "execute_result"
    }
   ],
   "source": [
    "df[(df[\"Genre\"] == \"Adventure\") & (df[\"Year\"] == 2015)][\"Rating\"].mean()"
   ]
  },
  {
   "cell_type": "code",
   "execution_count": 11,
   "id": "57f3f6d2",
   "metadata": {},
   "outputs": [
    {
     "data": {
      "text/plain": [
       "127.61333333333333"
      ]
     },
     "execution_count": 11,
     "metadata": {},
     "output_type": "execute_result"
    }
   ],
   "source": [
    "df.iloc[75:150, 5].mean()"
   ]
  },
  {
   "cell_type": "code",
   "execution_count": 12,
   "id": "d7b8ce98",
   "metadata": {},
   "outputs": [
    {
     "data": {
      "text/plain": [
       "Year\n",
       "2006     3624.46\n",
       "2007     4306.23\n",
       "2008     5053.22\n",
       "2009     5292.26\n",
       "2011     5431.96\n",
       "2010     5989.65\n",
       "2012     6910.29\n",
       "2013     7666.72\n",
       "2014     7997.40\n",
       "2015     8854.12\n",
       "2016    11211.65\n",
       "Name: Revenue_millions, dtype: float64"
      ]
     },
     "execution_count": 12,
     "metadata": {},
     "output_type": "execute_result"
    }
   ],
   "source": [
    "df.groupby(by=\"Year\")[\"Revenue_millions\"].sum().sort_values()"
   ]
  },
  {
   "cell_type": "code",
   "execution_count": 13,
   "id": "a8ac1997",
   "metadata": {},
   "outputs": [
    {
     "data": {
      "text/html": [
       "<div>\n",
       "<style scoped>\n",
       "    .dataframe tbody tr th:only-of-type {\n",
       "        vertical-align: middle;\n",
       "    }\n",
       "\n",
       "    .dataframe tbody tr th {\n",
       "        vertical-align: top;\n",
       "    }\n",
       "\n",
       "    .dataframe thead th {\n",
       "        text-align: right;\n",
       "    }\n",
       "</style>\n",
       "<table border=\"1\" class=\"dataframe\">\n",
       "  <thead>\n",
       "    <tr style=\"text-align: right;\">\n",
       "      <th></th>\n",
       "      <th>ID</th>\n",
       "      <th>Title</th>\n",
       "      <th>Genre</th>\n",
       "      <th>Director</th>\n",
       "      <th>Year</th>\n",
       "      <th>Runtime_minutes</th>\n",
       "      <th>Rating</th>\n",
       "      <th>Votes</th>\n",
       "      <th>Revenue_millions</th>\n",
       "    </tr>\n",
       "  </thead>\n",
       "  <tbody>\n",
       "    <tr>\n",
       "      <th>10</th>\n",
       "      <td>11</td>\n",
       "      <td>Fantastic Beasts and Where to Find Them</td>\n",
       "      <td>Adventure</td>\n",
       "      <td>David Yates</td>\n",
       "      <td>2016</td>\n",
       "      <td>133</td>\n",
       "      <td>7.5</td>\n",
       "      <td>232072</td>\n",
       "      <td>234.02</td>\n",
       "    </tr>\n",
       "    <tr>\n",
       "      <th>20</th>\n",
       "      <td>21</td>\n",
       "      <td>Gold</td>\n",
       "      <td>Adventure</td>\n",
       "      <td>Stephen Gaghan</td>\n",
       "      <td>2016</td>\n",
       "      <td>120</td>\n",
       "      <td>6.7</td>\n",
       "      <td>19053</td>\n",
       "      <td>7.22</td>\n",
       "    </tr>\n",
       "    <tr>\n",
       "      <th>30</th>\n",
       "      <td>31</td>\n",
       "      <td>Why Him?</td>\n",
       "      <td>Comedy</td>\n",
       "      <td>John Hamburg</td>\n",
       "      <td>2016</td>\n",
       "      <td>111</td>\n",
       "      <td>6.3</td>\n",
       "      <td>48123</td>\n",
       "      <td>60.31</td>\n",
       "    </tr>\n",
       "    <tr>\n",
       "      <th>40</th>\n",
       "      <td>41</td>\n",
       "      <td>Sausage Party</td>\n",
       "      <td>Animation</td>\n",
       "      <td>Greg Tiernan</td>\n",
       "      <td>2016</td>\n",
       "      <td>89</td>\n",
       "      <td>6.3</td>\n",
       "      <td>120690</td>\n",
       "      <td>97.66</td>\n",
       "    </tr>\n",
       "    <tr>\n",
       "      <th>50</th>\n",
       "      <td>51</td>\n",
       "      <td>Star Wars: Episode VII - The Force Awakens</td>\n",
       "      <td>Action</td>\n",
       "      <td>J.J. Abrams</td>\n",
       "      <td>2015</td>\n",
       "      <td>136</td>\n",
       "      <td>8.1</td>\n",
       "      <td>661608</td>\n",
       "      <td>936.63</td>\n",
       "    </tr>\n",
       "  </tbody>\n",
       "</table>\n",
       "</div>"
      ],
      "text/plain": [
       "    ID                                       Title      Genre        Director  \\\n",
       "10  11     Fantastic Beasts and Where to Find Them  Adventure     David Yates   \n",
       "20  21                                        Gold  Adventure  Stephen Gaghan   \n",
       "30  31                                    Why Him?     Comedy    John Hamburg   \n",
       "40  41                               Sausage Party  Animation    Greg Tiernan   \n",
       "50  51  Star Wars: Episode VII - The Force Awakens     Action     J.J. Abrams   \n",
       "\n",
       "    Year  Runtime_minutes  Rating   Votes  Revenue_millions  \n",
       "10  2016              133     7.5  232072            234.02  \n",
       "20  2016              120     6.7   19053              7.22  \n",
       "30  2016              111     6.3   48123             60.31  \n",
       "40  2016               89     6.3  120690             97.66  \n",
       "50  2015              136     8.1  661608            936.63  "
      ]
     },
     "execution_count": 13,
     "metadata": {},
     "output_type": "execute_result"
    }
   ],
   "source": [
    "rev_set = df.loc[[10,20,30,40,50]]\n",
    "rev_set"
   ]
  },
  {
   "cell_type": "code",
   "execution_count": 14,
   "id": "6463ccca",
   "metadata": {},
   "outputs": [
    {
     "data": {
      "text/plain": [
       "936.63"
      ]
     },
     "execution_count": 14,
     "metadata": {},
     "output_type": "execute_result"
    }
   ],
   "source": [
    "rev_set[\"Revenue_millions\"].max()"
   ]
  },
  {
   "cell_type": "code",
   "execution_count": 15,
   "id": "474f01c0",
   "metadata": {},
   "outputs": [
    {
     "data": {
      "text/plain": [
       "Genre\n",
       "Action       293\n",
       "Adventure     75\n",
       "Animation     49\n",
       "Biography     64\n",
       "Comedy       175\n",
       "Crime         71\n",
       "Drama        195\n",
       "Fantasy        4\n",
       "Horror        46\n",
       "Mystery       13\n",
       "Romance        2\n",
       "Sci-Fi         3\n",
       "Thriller      10\n",
       "Name: ID, dtype: int64"
      ]
     },
     "execution_count": 15,
     "metadata": {},
     "output_type": "execute_result"
    }
   ],
   "source": [
    "df.groupby(by=\"Genre\")[\"ID\"].count()"
   ]
  },
  {
   "cell_type": "code",
   "execution_count": 16,
   "id": "5aac89e2",
   "metadata": {},
   "outputs": [
    {
     "data": {
      "text/plain": [
       "485"
      ]
     },
     "execution_count": 16,
     "metadata": {},
     "output_type": "execute_result"
    }
   ],
   "source": [
    "75+293+46+71\n"
   ]
  },
  {
   "cell_type": "code",
   "execution_count": 17,
   "id": "ba3b02d3",
   "metadata": {},
   "outputs": [
    {
     "data": {
      "text/plain": [
       "ID                  485\n",
       "Title               485\n",
       "Genre               485\n",
       "Director            485\n",
       "Year                485\n",
       "Runtime_minutes     485\n",
       "Rating              485\n",
       "Votes               485\n",
       "Revenue_millions    436\n",
       "dtype: int64"
      ]
     },
     "execution_count": 17,
     "metadata": {},
     "output_type": "execute_result"
    }
   ],
   "source": [
    "df[df[\"Genre\"].isin([\"Action\",\"Adventure\",\"Crime\",\"Horror\"])].count()"
   ]
  },
  {
   "cell_type": "markdown",
   "id": "09b23a9f",
   "metadata": {},
   "source": [
    "## Analysis"
   ]
  },
  {
   "cell_type": "markdown",
   "id": "d1e20dd9",
   "metadata": {},
   "source": [
    "### Create a genre level report with metrics average rating, the average number of votes, and average revenue"
   ]
  },
  {
   "cell_type": "code",
   "execution_count": 18,
   "id": "f4c67954",
   "metadata": {},
   "outputs": [
    {
     "name": "stdout",
     "output_type": "stream",
     "text": [
      "             Rating          Votes  Revenue_millions\n",
      "Genre                                               \n",
      "Animation  7.324490  208159.428571        191.223404\n",
      "Biography  7.318750  153060.718750         55.954500\n",
      "Drama      6.954872  129445.128205         35.874487\n",
      "Adventure  6.908000  225669.320000        113.453521\n",
      "Mystery    6.876923  218672.000000         64.379091\n",
      "Crime      6.807042  150124.957746         41.043519\n",
      "Romance    6.600000  104572.000000         62.450000\n",
      "Action     6.592491  235948.580205        122.093551\n",
      "Comedy     6.493143  115640.188571         51.582244\n",
      "Thriller   5.960000   31156.800000          0.320000\n",
      "Horror     5.867391   79435.413043         39.946857\n",
      "Fantasy    5.850000  106723.000000         63.110000\n",
      "Sci-Fi     4.966667   57450.000000         42.635000\n"
     ]
    }
   ],
   "source": [
    "genre_grouped = df.groupby('Genre')\n",
    "\n",
    "genre_report = genre_grouped.agg({\n",
    "    'Rating': 'mean',\n",
    "    'Votes': 'mean',\n",
    "    'Revenue_millions': 'mean'\n",
    "})\n",
    "\n",
    "genre_report = genre_report.sort_values('Rating', ascending=False)\n",
    "\n",
    "print(genre_report)"
   ]
  },
  {
   "cell_type": "code",
   "execution_count": 19,
   "id": "a8df4b63",
   "metadata": {},
   "outputs": [
    {
     "name": "stdout",
     "output_type": "stream",
     "text": [
      "<class 'pandas.core.frame.DataFrame'>\n"
     ]
    }
   ],
   "source": [
    "print(type(genre_report))"
   ]
  },
  {
   "cell_type": "code",
   "execution_count": 20,
   "id": "6230727a",
   "metadata": {},
   "outputs": [
    {
     "data": {
      "text/plain": [
       "Rating                  5.867391\n",
       "Votes               79435.413043\n",
       "Revenue_millions       39.946857\n",
       "Name: Horror, dtype: float64"
      ]
     },
     "execution_count": 20,
     "metadata": {},
     "output_type": "execute_result"
    }
   ],
   "source": [
    "genre_report.loc[\"Horror\"]"
   ]
  },
  {
   "cell_type": "code",
   "execution_count": 21,
   "id": "7c1d9be2",
   "metadata": {},
   "outputs": [
    {
     "name": "stdout",
     "output_type": "stream",
     "text": [
      "        Genre  Year  Revenue_millions\n",
      "0      Action  2006           1664.01\n",
      "1      Action  2007           1579.58\n",
      "2      Action  2008           2935.08\n",
      "3      Action  2009           2694.44\n",
      "4      Action  2010           2345.65\n",
      "..        ...   ...               ...\n",
      "101    Sci-Fi  2008             64.51\n",
      "102    Sci-Fi  2016             20.76\n",
      "103  Thriller  2007              0.00\n",
      "104  Thriller  2014              0.32\n",
      "105  Thriller  2016              0.00\n",
      "\n",
      "[106 rows x 3 columns]\n",
      "       ID                    Title      Genre              Director  Year  \\\n",
      "0       1  Guardians of the Galaxy     Action            James Gunn  2014   \n",
      "1       2               Prometheus  Adventure          Ridley Scott  2012   \n",
      "2       3                    Split     Horror    M. Night Shyamalan  2016   \n",
      "3       4                     Sing  Animation  Christophe Lourdelet  2016   \n",
      "4       5            Suicide Squad     Action            David Ayer  2016   \n",
      "..    ...                      ...        ...                   ...   ...   \n",
      "995   996     Secret in Their Eyes      Crime             Billy Ray  2015   \n",
      "996   997          Hostel: Part II     Horror              Eli Roth  2007   \n",
      "997   998   Step Up 2: The Streets      Drama            Jon M. Chu  2008   \n",
      "998   999             Search Party  Adventure        Scot Armstrong  2014   \n",
      "999  1000               Nine Lives     Comedy      Barry Sonnenfeld  2016   \n",
      "\n",
      "     Runtime_minutes  Rating   Votes  Revenue_millions  Total_revenue  \n",
      "0                121     8.1  757074            333.13        4458.07  \n",
      "1                124     7.0  485820            126.46        1300.25  \n",
      "2                117     7.3  157606            138.12         469.47  \n",
      "3                108     7.2   60545            270.32        2417.34  \n",
      "4                123     6.2  393727            325.02        4807.61  \n",
      "..               ...     ...     ...               ...            ...  \n",
      "995              111     6.2   27585               NaN         117.22  \n",
      "996               94     5.5   73152             17.54          43.13  \n",
      "997               98     6.2   70699             58.01         807.13  \n",
      "998               93     5.6    4881               NaN         932.61  \n",
      "999               87     5.3   12435             19.64         961.34  \n",
      "\n",
      "[1000 rows x 10 columns]\n",
      "The % revenue of the movie 'Split' in its respective genre and year is: 29.42041024985622\n"
     ]
    }
   ],
   "source": [
    "genre_year_rev = df.groupby(['Genre', 'Year'])['Revenue_millions'].sum().reset_index()\n",
    "print(genre_year_rev)\n",
    "genre_year_rev.rename(columns={'Revenue_millions': 'Total_revenue'}, inplace=True)\n",
    "\n",
    "merged_data = pd.merge(df, genre_year_rev, on=['Genre', 'Year'], how='left')\n",
    "print(merged_data)\n",
    "split_movie = merged_data[merged_data['Title'] == 'Split']\n",
    "percent_revenue = (split_movie['Revenue_millions'] * 100) / split_movie['Total_revenue']\n",
    "\n",
    "print(\"The % revenue of the movie 'Split' in its respective genre and year is:\", percent_revenue.values[0])\n"
   ]
  },
  {
   "cell_type": "code",
   "execution_count": 22,
   "id": "f17755d9",
   "metadata": {},
   "outputs": [],
   "source": [
    "df.dropna(inplace=True)"
   ]
  },
  {
   "cell_type": "code",
   "execution_count": 23,
   "id": "e7bd4bb3",
   "metadata": {},
   "outputs": [
    {
     "name": "stdout",
     "output_type": "stream",
     "text": [
      "       Genre  Year  Total_revenue\n",
      "0     Action  2006        1664.01\n",
      "1     Action  2007        1579.58\n",
      "2     Action  2008        2935.08\n",
      "3     Action  2009        2694.44\n",
      "4     Action  2010        2345.65\n",
      "..       ...   ...            ...\n",
      "95   Mystery  2015          79.16\n",
      "96   Romance  2011          62.45\n",
      "97    Sci-Fi  2008          64.51\n",
      "98    Sci-Fi  2016          20.76\n",
      "99  Thriller  2014           0.32\n",
      "\n",
      "[100 rows x 3 columns]\n",
      "       ID                     Title      Genre              Director  Year  \\\n",
      "0       1   Guardians of the Galaxy     Action            James Gunn  2014   \n",
      "1       2                Prometheus  Adventure          Ridley Scott  2012   \n",
      "2       3                     Split     Horror    M. Night Shyamalan  2016   \n",
      "3       4                      Sing  Animation  Christophe Lourdelet  2016   \n",
      "4       5             Suicide Squad     Action            David Ayer  2016   \n",
      "..    ...                       ...        ...                   ...   ...   \n",
      "867   994  Resident Evil: Afterlife     Action    Paul W.S. Anderson  2010   \n",
      "868   995                 Project X     Comedy       Nima Nourizadeh  2012   \n",
      "869   997           Hostel: Part II     Horror              Eli Roth  2007   \n",
      "870   998    Step Up 2: The Streets      Drama            Jon M. Chu  2008   \n",
      "871  1000                Nine Lives     Comedy      Barry Sonnenfeld  2016   \n",
      "\n",
      "     Runtime_minutes  Rating   Votes  Revenue_millions  Total_revenue  \\\n",
      "0                121     8.1  757074            333.13        4458.07   \n",
      "1                124     7.0  485820            126.46        1300.25   \n",
      "2                117     7.3  157606            138.12         469.47   \n",
      "3                108     7.2   60545            270.32        2417.34   \n",
      "4                123     6.2  393727            325.02        4807.61   \n",
      "..               ...     ...     ...               ...            ...   \n",
      "867               97     5.9  140900             60.13        2345.65   \n",
      "868               88     6.7  164088             54.72        1008.02   \n",
      "869               94     5.5   73152             17.54          43.13   \n",
      "870               98     6.2   70699             58.01         807.13   \n",
      "871               87     5.3   12435             19.64         961.34   \n",
      "\n",
      "     Percent_revenue  \n",
      "0           7.472516  \n",
      "1           9.725822  \n",
      "2          29.420410  \n",
      "3          11.182539  \n",
      "4           6.760532  \n",
      "..               ...  \n",
      "867         2.563469  \n",
      "868         5.428464  \n",
      "869        40.667749  \n",
      "870         7.187194  \n",
      "871         2.042982  \n",
      "\n",
      "[872 rows x 11 columns]\n",
      "The % revenue of the movie 'Split' in its respective genre and year is: 29.42041024985622\n"
     ]
    }
   ],
   "source": [
    "genre_year_revenue = df.groupby(['Genre', 'Year'])['Revenue_millions'].sum().reset_index()\n",
    "genre_year_revenue.rename(columns={'Revenue_millions': 'Total_revenue'}, inplace=True)\n",
    "print(genre_year_revenue)\n",
    "\n",
    "merged_data = pd.merge(df, genre_year_revenue, on=['Genre', 'Year'], how='left')\n",
    "\n",
    "def calculate_percent_revenue(row):\n",
    "    return (row['Revenue_millions'] * 100) / row['Total_revenue']\n",
    "\n",
    "merged_data['Percent_revenue'] = merged_data.apply(calculate_percent_revenue, axis=1)\n",
    "print(merged_data)\n",
    "\n",
    "split_percent_revenue = merged_data.loc[merged_data['Title'] == 'Split', 'Percent_revenue'].values[0]\n",
    "\n",
    "print(\"The % revenue of the movie 'Split' in its respective genre and year is:\", split_percent_revenue)\n"
   ]
  },
  {
   "cell_type": "markdown",
   "id": "74d85ec4",
   "metadata": {},
   "source": [
    "### Add a column votes_norm using apply function."
   ]
  },
  {
   "cell_type": "code",
   "execution_count": 26,
   "id": "3bf46559",
   "metadata": {},
   "outputs": [
    {
     "name": "stdout",
     "output_type": "stream",
     "text": [
      "The average 'Votes_norm' is: 0.95\n"
     ]
    }
   ],
   "source": [
    "imdb_data = pd.read_csv('IMDB-Movie-Data.xlsx.csv')\n",
    "\n",
    "def calculate_votes_norm(row):\n",
    "    min_votes = imdb_data['Votes'].min()\n",
    "    max_votes = imdb_data['Votes'].max()\n",
    "    return (row['Votes'] - min_votes) * 10 / (max_votes - min_votes)\n",
    "\n",
    "imdb_data['Votes_norm'] = imdb_data.apply(calculate_votes_norm, axis=1)\n",
    "\n",
    "average_votes_norm = round(imdb_data['Votes_norm'].mean(), 2)\n",
    "\n",
    "print(\"The average 'Votes_norm' is:\", average_votes_norm)"
   ]
  },
  {
   "cell_type": "code",
   "execution_count": 28,
   "id": "597c9018",
   "metadata": {},
   "outputs": [
    {
     "name": "stdout",
     "output_type": "stream",
     "text": [
      "The highest 'Total_rating' is: 19.0\n"
     ]
    }
   ],
   "source": [
    "def calculate_total_rating(row):\n",
    "    return row['Rating'] + row['Votes_norm']\n",
    "\n",
    "imdb_data['Total_rating'] = imdb_data.apply(calculate_total_rating, axis=1)\n",
    "\n",
    "highest_total_rating = imdb_data['Total_rating'].max()\n",
    "\n",
    "print(\"The highest 'Total_rating' is:\", highest_total_rating)\n"
   ]
  },
  {
   "cell_type": "code",
   "execution_count": 29,
   "id": "1f3807fb",
   "metadata": {},
   "outputs": [
    {
     "name": "stdout",
     "output_type": "stream",
     "text": [
      "The bucket with the highest number of movies is: 0-50\n"
     ]
    }
   ],
   "source": [
    "bins = [0, 50, 100, 150, float('inf')]\n",
    "labels = ['0-50', '51-100', '101-150', '150+']\n",
    "\n",
    "imdb_data['Revenue_bins'] = pd.cut(imdb_data['Revenue_millions'], bins=bins, labels=labels, right=False)\n",
    "\n",
    "bucket_counts = imdb_data['Revenue_bins'].value_counts()\n",
    "highest_bucket = bucket_counts.idxmax()\n",
    "\n",
    "print(\"The bucket with the highest number of movies is:\", highest_bucket)\n"
   ]
  },
  {
   "cell_type": "code",
   "execution_count": 30,
   "id": "8f111cdd",
   "metadata": {},
   "outputs": [
    {
     "name": "stdout",
     "output_type": "stream",
     "text": [
      "The number of directors who have created movies in the highest number of genres: 2\n"
     ]
    }
   ],
   "source": [
    "director_grouped = imdb_data.groupby('Director')['Genre'].nunique().reset_index()\n",
    "\n",
    "highest_num_genres = director_grouped['Genre'].max()\n",
    "\n",
    "directors_highest_num_genres = director_grouped[director_grouped['Genre'] == highest_num_genres]['Director']\n",
    "\n",
    "num_directors_highest_num_genres = directors_highest_num_genres.nunique()\n",
    "\n",
    "print(\"The number of directors who have created movies in the highest number of genres:\", num_directors_highest_num_genres)\n"
   ]
  },
  {
   "cell_type": "code",
   "execution_count": null,
   "id": "c2da9796",
   "metadata": {},
   "outputs": [],
   "source": []
  }
 ],
 "metadata": {
  "kernelspec": {
   "display_name": "Python 3 (ipykernel)",
   "language": "python",
   "name": "python3"
  },
  "language_info": {
   "codemirror_mode": {
    "name": "ipython",
    "version": 3
   },
   "file_extension": ".py",
   "mimetype": "text/x-python",
   "name": "python",
   "nbconvert_exporter": "python",
   "pygments_lexer": "ipython3",
   "version": "3.9.13"
  }
 },
 "nbformat": 4,
 "nbformat_minor": 5
}
